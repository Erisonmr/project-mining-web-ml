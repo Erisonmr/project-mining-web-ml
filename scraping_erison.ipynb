{
 "cells": [
  {
   "cell_type": "code",
   "execution_count": 205,
   "metadata": {},
   "outputs": [],
   "source": [
    "from selenium import webdriver\n",
    "from selenium.webdriver.common.keys import Keys\n",
    "from bs4 import BeautifulSoup\n",
    "import pandas as pd\n",
    "from datetime import datetime, timedelta"
   ]
  },
  {
   "cell_type": "markdown",
   "metadata": {},
   "source": [
    "chrome_options = webdriver.ChromeOptions()\n",
    "chrome_options.add_argument(\"--incognito\")\n",
    "\n",
    "driver = webdriver.Chrome(options=chrome_options, executable_path='chromedriver')\n",
    "#driver.set_page_load_timeout(60)\n",
    "driver.get(\"https://elcomercio.pe/archivo/deporte-total/2019-09-27/\");\n",
    "contenido = driver.page_source\n",
    "soup=BeautifulSoup(contenido)"
   ]
  },
  {
   "cell_type": "markdown",
   "metadata": {},
   "source": [
    "#listStory = soup.find_all(\"div\", {\"class\": \"story-item__left\"})"
   ]
  },
  {
   "cell_type": "markdown",
   "metadata": {},
   "source": [
    "    #tempList = []\n",
    "    #for item in listStory:\n",
    "    #    strings = []\n",
    "    #    \n",
    "    #    for div in item:\n",
    "    #        strings.append(div.text)\n",
    "    #        \n",
    "    #    story = '\\n'.join(strings)\n",
    "    #    tempList.append({'tipo':'Deporte', 'contenido': story })\n",
    "\n",
    "    #data = pd.DataFrame(tempList)\n",
    "    #data.to_csv(\"Deportes3.csv\", index=False)"
   ]
  },
  {
   "cell_type": "markdown",
   "metadata": {},
   "source": [
    "listTitles = soup.find_all(\"h2\", {\"class\": \"story-item__content-title\"})"
   ]
  },
  {
   "cell_type": "markdown",
   "metadata": {},
   "source": [
    "tempList = []\n",
    "for item in listTitles:\n",
    "    story = item.text\n",
    "    tempList.append({'tipo':'Deporte', 'contenido': story })\n",
    "\n",
    "dataCab = pd.DataFrame(tempList)\n",
    "dataCab.to_csv(\"Deportes_tituares.csv\", index=False)"
   ]
  },
  {
   "cell_type": "markdown",
   "metadata": {},
   "source": [
    "listSubTitles = soup.find_all(\"p\", {\"class\": \"story-item__subtitle\"})"
   ]
  },
  {
   "cell_type": "markdown",
   "metadata": {},
   "source": [
    "tempList = []\n",
    "for item in listSubTitles:\n",
    "    story = item.text\n",
    "    tempList.append({'tipo':'Deporte', 'contenido': story })\n",
    "\n",
    "dataDet = pd.DataFrame(tempList)\n",
    "dataDet.to_csv(\"Deportes_contenido.csv\", index=False)"
   ]
  },
  {
   "cell_type": "markdown",
   "metadata": {},
   "source": [
    "dataCab.shape"
   ]
  },
  {
   "cell_type": "markdown",
   "metadata": {},
   "source": [
    "dataDet.shape"
   ]
  },
  {
   "cell_type": "markdown",
   "metadata": {},
   "source": [
    "len(listSubTitles)\n",
    "listSubTitles[0].text"
   ]
  },
  {
   "cell_type": "code",
   "execution_count": 220,
   "metadata": {},
   "outputs": [],
   "source": [
    "chrome_options = webdriver.ChromeOptions()\n",
    "chrome_options.add_argument(\"--incognito\")\n",
    "driver = webdriver.Chrome(options=chrome_options, executable_path='chromedriver')\n",
    "\n",
    "categorias=[\"economia\",\"deporte-total\",\"politica\",\"luces\"]\n",
    "\n",
    "day_ini = datetime(2019,1,1)\n",
    "day_fin = datetime(2019,6,30)\n",
    "lista_days = [(day_ini + timedelta(days=d)).strftime(\"%Y-%m-%d\")\n",
    "                    for d in range((day_fin - day_ini).days + 1)] \n",
    "tempTitles = []\n",
    "tempSubTitles = []\n",
    "for cat in categorias:\n",
    "    for dia in lista_days:\n",
    "        driver.get(\"https://elcomercio.pe/archivo/\"+cat+\"/\"+dia+\"/\");\n",
    "        driver.set_page_load_timeout(100)\n",
    "        contenido = driver.page_source\n",
    "        soup=BeautifulSoup(contenido)\n",
    "\n",
    "        listTitles = soup.find_all(\"h2\", {\"class\": \"story-item__content-title\"})\n",
    "        listSubTitles = soup.find_all(\"p\", {\"class\": \"story-item__subtitle\"})\n",
    "\n",
    "        for item in range(1,len(listTitles)):\n",
    "            storyTitle = listTitles[item].text #item.text\n",
    "            storySubtitle = listSubTitles[item].text #item.text\n",
    "            tempTitles.append({'tipo':cat, 'contenido': storyTitle })\n",
    "            tempSubTitles.append({'tipo':cat, 'contenido': storySubtitle })\n",
    "\n",
    "dataCab = pd.DataFrame(tempTitles)\n",
    "dataCab.to_csv(\"Deportes_tituares.csv\", index=False)\n",
    "\n",
    "dataDet = pd.DataFrame(tempSubTitles)\n",
    "dataDet.to_csv(\"Deportes_contenido.csv\", index=False)\n"
   ]
  },
  {
   "cell_type": "code",
   "execution_count": 221,
   "metadata": {},
   "outputs": [
    {
     "name": "stdout",
     "output_type": "stream",
     "text": [
      "Total de Registros: 21293\n"
     ]
    }
   ],
   "source": [
    "print(\"Total de Registros: \"+str(len(dataCab) ))"
   ]
  },
  {
   "cell_type": "code",
   "execution_count": 222,
   "metadata": {},
   "outputs": [
    {
     "name": "stdout",
     "output_type": "stream",
     "text": [
      "tipo\n",
      "deporte-total    9982\n",
      "economia         4007\n",
      "luces            3305\n",
      "politica         3999\n",
      "dtype: int64\n"
     ]
    }
   ],
   "source": [
    "print(dataCab.groupby('tipo').size())"
   ]
  },
  {
   "cell_type": "code",
   "execution_count": 223,
   "metadata": {},
   "outputs": [
    {
     "data": {
      "text/html": [
       "<div>\n",
       "<style scoped>\n",
       "    .dataframe tbody tr th:only-of-type {\n",
       "        vertical-align: middle;\n",
       "    }\n",
       "\n",
       "    .dataframe tbody tr th {\n",
       "        vertical-align: top;\n",
       "    }\n",
       "\n",
       "    .dataframe thead th {\n",
       "        text-align: right;\n",
       "    }\n",
       "</style>\n",
       "<table border=\"1\" class=\"dataframe\">\n",
       "  <thead>\n",
       "    <tr style=\"text-align: right;\">\n",
       "      <th></th>\n",
       "      <th>contenido</th>\n",
       "      <th>tipo</th>\n",
       "    </tr>\n",
       "  </thead>\n",
       "  <tbody>\n",
       "    <tr>\n",
       "      <th>0</th>\n",
       "      <td>\"Reputación: cinco consejos para el 2019\", por...</td>\n",
       "      <td>economia</td>\n",
       "    </tr>\n",
       "    <tr>\n",
       "      <th>1</th>\n",
       "      <td>Telcos: \"El reto actual está en la masificació...</td>\n",
       "      <td>economia</td>\n",
       "    </tr>\n",
       "    <tr>\n",
       "      <th>2</th>\n",
       "      <td>Sudáfrica introduce un salario mínimo por prim...</td>\n",
       "      <td>economia</td>\n",
       "    </tr>\n",
       "    <tr>\n",
       "      <th>3</th>\n",
       "      <td>Abrir mercados para la agroindustria: el reto ...</td>\n",
       "      <td>economia</td>\n",
       "    </tr>\n",
       "    <tr>\n",
       "      <th>4</th>\n",
       "      <td>INEI: Consumo de cemento creció 7,29% en novie...</td>\n",
       "      <td>economia</td>\n",
       "    </tr>\n",
       "    <tr>\n",
       "      <th>5</th>\n",
       "      <td>México concluye que el TLCAN fue un éxito y un...</td>\n",
       "      <td>economia</td>\n",
       "    </tr>\n",
       "    <tr>\n",
       "      <th>6</th>\n",
       "      <td>Inflación cerró en 2,19% en 2018 en Lima, dent...</td>\n",
       "      <td>economia</td>\n",
       "    </tr>\n",
       "    <tr>\n",
       "      <th>7</th>\n",
       "      <td>Sunafil: Designan a Juan Carlos Requejo como n...</td>\n",
       "      <td>economia</td>\n",
       "    </tr>\n",
       "    <tr>\n",
       "      <th>8</th>\n",
       "      <td>Turismo por lo alto: El deporte como dinamizador</td>\n",
       "      <td>economia</td>\n",
       "    </tr>\n",
       "    <tr>\n",
       "      <th>9</th>\n",
       "      <td>‘Retail’ en marcha: Un sector que ganará altur...</td>\n",
       "      <td>economia</td>\n",
       "    </tr>\n",
       "  </tbody>\n",
       "</table>\n",
       "</div>"
      ],
      "text/plain": [
       "                                           contenido      tipo\n",
       "0  \"Reputación: cinco consejos para el 2019\", por...  economia\n",
       "1  Telcos: \"El reto actual está en la masificació...  economia\n",
       "2  Sudáfrica introduce un salario mínimo por prim...  economia\n",
       "3  Abrir mercados para la agroindustria: el reto ...  economia\n",
       "4  INEI: Consumo de cemento creció 7,29% en novie...  economia\n",
       "5  México concluye que el TLCAN fue un éxito y un...  economia\n",
       "6  Inflación cerró en 2,19% en 2018 en Lima, dent...  economia\n",
       "7  Sunafil: Designan a Juan Carlos Requejo como n...  economia\n",
       "8   Turismo por lo alto: El deporte como dinamizador  economia\n",
       "9  ‘Retail’ en marcha: Un sector que ganará altur...  economia"
      ]
     },
     "execution_count": 223,
     "metadata": {},
     "output_type": "execute_result"
    }
   ],
   "source": [
    "dataCab.head(10)"
   ]
  },
  {
   "cell_type": "code",
   "execution_count": 224,
   "metadata": {},
   "outputs": [
    {
     "data": {
      "text/html": [
       "<div>\n",
       "<style scoped>\n",
       "    .dataframe tbody tr th:only-of-type {\n",
       "        vertical-align: middle;\n",
       "    }\n",
       "\n",
       "    .dataframe tbody tr th {\n",
       "        vertical-align: top;\n",
       "    }\n",
       "\n",
       "    .dataframe thead th {\n",
       "        text-align: right;\n",
       "    }\n",
       "</style>\n",
       "<table border=\"1\" class=\"dataframe\">\n",
       "  <thead>\n",
       "    <tr style=\"text-align: right;\">\n",
       "      <th></th>\n",
       "      <th>contenido</th>\n",
       "      <th>tipo</th>\n",
       "    </tr>\n",
       "  </thead>\n",
       "  <tbody>\n",
       "    <tr>\n",
       "      <th>0</th>\n",
       "      <td>\"En un medio que cada vez es más competitivo, ...</td>\n",
       "      <td>economia</td>\n",
       "    </tr>\n",
       "    <tr>\n",
       "      <th>1</th>\n",
       "      <td>Alejandro Jiménez hace un diagnóstico del sect...</td>\n",
       "      <td>economia</td>\n",
       "    </tr>\n",
       "    <tr>\n",
       "      <th>2</th>\n",
       "      <td>La economía más industrializada del continente...</td>\n",
       "      <td>economia</td>\n",
       "    </tr>\n",
       "    <tr>\n",
       "      <th>3</th>\n",
       "      <td>En el 2019, el Servicio Nacional de Sanidad Ag...</td>\n",
       "      <td>economia</td>\n",
       "    </tr>\n",
       "    <tr>\n",
       "      <th>4</th>\n",
       "      <td>Este resultado positivo del cemento se debió a...</td>\n",
       "      <td>economia</td>\n",
       "    </tr>\n",
       "    <tr>\n",
       "      <th>5</th>\n",
       "      <td>El acuerdo ha permitido la modernización de la...</td>\n",
       "      <td>economia</td>\n",
       "    </tr>\n",
       "    <tr>\n",
       "      <th>6</th>\n",
       "      <td>La tasa anualizada es superior al 1,36% del 20...</td>\n",
       "      <td>economia</td>\n",
       "    </tr>\n",
       "    <tr>\n",
       "      <th>7</th>\n",
       "      <td>Requejo tiene 20 años de experiencia en el sec...</td>\n",
       "      <td>economia</td>\n",
       "    </tr>\n",
       "    <tr>\n",
       "      <th>8</th>\n",
       "      <td>Los Juegos Panamericanos, el Dakar y otros eve...</td>\n",
       "      <td>economia</td>\n",
       "    </tr>\n",
       "    <tr>\n",
       "      <th>9</th>\n",
       "      <td>Las inversiones en nuevos ‘malls’ en Lima, la ...</td>\n",
       "      <td>economia</td>\n",
       "    </tr>\n",
       "  </tbody>\n",
       "</table>\n",
       "</div>"
      ],
      "text/plain": [
       "                                           contenido      tipo\n",
       "0  \"En un medio que cada vez es más competitivo, ...  economia\n",
       "1  Alejandro Jiménez hace un diagnóstico del sect...  economia\n",
       "2  La economía más industrializada del continente...  economia\n",
       "3  En el 2019, el Servicio Nacional de Sanidad Ag...  economia\n",
       "4  Este resultado positivo del cemento se debió a...  economia\n",
       "5  El acuerdo ha permitido la modernización de la...  economia\n",
       "6  La tasa anualizada es superior al 1,36% del 20...  economia\n",
       "7  Requejo tiene 20 años de experiencia en el sec...  economia\n",
       "8  Los Juegos Panamericanos, el Dakar y otros eve...  economia\n",
       "9  Las inversiones en nuevos ‘malls’ en Lima, la ...  economia"
      ]
     },
     "execution_count": 224,
     "metadata": {},
     "output_type": "execute_result"
    }
   ],
   "source": [
    "dataDet.head(10)"
   ]
  },
  {
   "cell_type": "code",
   "execution_count": null,
   "metadata": {},
   "outputs": [],
   "source": []
  }
 ],
 "metadata": {
  "kernelspec": {
   "display_name": "Python 3",
   "language": "python",
   "name": "python3"
  },
  "language_info": {
   "codemirror_mode": {
    "name": "ipython",
    "version": 3
   },
   "file_extension": ".py",
   "mimetype": "text/x-python",
   "name": "python",
   "nbconvert_exporter": "python",
   "pygments_lexer": "ipython3",
   "version": "3.7.3"
  }
 },
 "nbformat": 4,
 "nbformat_minor": 2
}
